{
 "cells": [
  {
   "cell_type": "code",
   "execution_count": 1,
   "metadata": {},
   "outputs": [],
   "source": [
    "#importing libraries\n",
    "import pandas as pd\n",
    "import numpy as np\n",
    "import warnings\n",
    "\n",
    "import seaborn as sns\n",
    "import matplotlib.pyplot as plt\n",
    "%matplotlib inline\n",
    "\n",
    "from sklearn.tree import DecisionTreeClassifier\n",
    "from sklearn.ensemble import RandomForestClassifier, GradientBoostingClassifier\n",
    "from sklearn.model_selection import train_test_split\n",
    "from sklearn.preprocessing import LabelEncoder\n",
    "from sklearn import metrics\n",
    "from sklearn.metrics import mean_squared_error\n",
    "from sklearn.model_selection import train_test_split\n",
    "warnings.filterwarnings(\"ignore\")"
   ]
  },
  {
   "cell_type": "code",
   "execution_count": 228,
   "metadata": {},
   "outputs": [
    {
     "data": {
      "text/html": [
       "<div>\n",
       "<style scoped>\n",
       "    .dataframe tbody tr th:only-of-type {\n",
       "        vertical-align: middle;\n",
       "    }\n",
       "\n",
       "    .dataframe tbody tr th {\n",
       "        vertical-align: top;\n",
       "    }\n",
       "\n",
       "    .dataframe thead th {\n",
       "        text-align: right;\n",
       "    }\n",
       "</style>\n",
       "<table border=\"1\" class=\"dataframe\">\n",
       "  <thead>\n",
       "    <tr style=\"text-align: right;\">\n",
       "      <th></th>\n",
       "      <th>ID</th>\n",
       "      <th>Gender</th>\n",
       "      <th>Age</th>\n",
       "      <th>Region_Code</th>\n",
       "      <th>Occupation</th>\n",
       "      <th>Channel_Code</th>\n",
       "      <th>Vintage</th>\n",
       "      <th>Credit_Product</th>\n",
       "      <th>Avg_Account_Balance</th>\n",
       "      <th>Is_Active</th>\n",
       "      <th>Is_Lead</th>\n",
       "    </tr>\n",
       "  </thead>\n",
       "  <tbody>\n",
       "    <tr>\n",
       "      <th>0</th>\n",
       "      <td>NNVBBKZB</td>\n",
       "      <td>Female</td>\n",
       "      <td>73</td>\n",
       "      <td>RG268</td>\n",
       "      <td>Other</td>\n",
       "      <td>X3</td>\n",
       "      <td>43</td>\n",
       "      <td>No</td>\n",
       "      <td>1045696</td>\n",
       "      <td>No</td>\n",
       "      <td>0</td>\n",
       "    </tr>\n",
       "    <tr>\n",
       "      <th>1</th>\n",
       "      <td>IDD62UNG</td>\n",
       "      <td>Female</td>\n",
       "      <td>30</td>\n",
       "      <td>RG277</td>\n",
       "      <td>Salaried</td>\n",
       "      <td>X1</td>\n",
       "      <td>32</td>\n",
       "      <td>No</td>\n",
       "      <td>581988</td>\n",
       "      <td>No</td>\n",
       "      <td>0</td>\n",
       "    </tr>\n",
       "    <tr>\n",
       "      <th>2</th>\n",
       "      <td>HD3DSEMC</td>\n",
       "      <td>Female</td>\n",
       "      <td>56</td>\n",
       "      <td>RG268</td>\n",
       "      <td>Self_Employed</td>\n",
       "      <td>X3</td>\n",
       "      <td>26</td>\n",
       "      <td>No</td>\n",
       "      <td>1484315</td>\n",
       "      <td>Yes</td>\n",
       "      <td>0</td>\n",
       "    </tr>\n",
       "    <tr>\n",
       "      <th>3</th>\n",
       "      <td>BF3NC7KV</td>\n",
       "      <td>Male</td>\n",
       "      <td>34</td>\n",
       "      <td>RG270</td>\n",
       "      <td>Salaried</td>\n",
       "      <td>X1</td>\n",
       "      <td>19</td>\n",
       "      <td>No</td>\n",
       "      <td>470454</td>\n",
       "      <td>No</td>\n",
       "      <td>0</td>\n",
       "    </tr>\n",
       "    <tr>\n",
       "      <th>4</th>\n",
       "      <td>TEASRWXV</td>\n",
       "      <td>Female</td>\n",
       "      <td>30</td>\n",
       "      <td>RG282</td>\n",
       "      <td>Salaried</td>\n",
       "      <td>X1</td>\n",
       "      <td>33</td>\n",
       "      <td>No</td>\n",
       "      <td>886787</td>\n",
       "      <td>No</td>\n",
       "      <td>0</td>\n",
       "    </tr>\n",
       "  </tbody>\n",
       "</table>\n",
       "</div>"
      ],
      "text/plain": [
       "         ID  Gender  Age Region_Code     Occupation Channel_Code  Vintage  \\\n",
       "0  NNVBBKZB  Female   73       RG268          Other           X3       43   \n",
       "1  IDD62UNG  Female   30       RG277       Salaried           X1       32   \n",
       "2  HD3DSEMC  Female   56       RG268  Self_Employed           X3       26   \n",
       "3  BF3NC7KV    Male   34       RG270       Salaried           X1       19   \n",
       "4  TEASRWXV  Female   30       RG282       Salaried           X1       33   \n",
       "\n",
       "  Credit_Product  Avg_Account_Balance Is_Active  Is_Lead  \n",
       "0             No              1045696        No        0  \n",
       "1             No               581988        No        0  \n",
       "2             No              1484315       Yes        0  \n",
       "3             No               470454        No        0  \n",
       "4             No               886787        No        0  "
      ]
     },
     "execution_count": 228,
     "metadata": {},
     "output_type": "execute_result"
    }
   ],
   "source": [
    "#Read in data\n",
    "train = pd.read_csv(\"C:/Users/Amulya/Downloads/Analytics_Vidhya_Hackathon/train.csv\", delimiter = \",\")\n",
    "test = pd.read_csv(\"C:/Users/Amulya/Downloads/Analytics_Vidhya_Hackathon/test.csv\", delimiter = \",\")\n",
    "train.head()"
   ]
  },
  {
   "cell_type": "markdown",
   "metadata": {},
   "source": [
    "# Data wrangling"
   ]
  },
  {
   "cell_type": "code",
   "execution_count": 224,
   "metadata": {},
   "outputs": [
    {
     "data": {
      "text/html": [
       "<div>\n",
       "<style scoped>\n",
       "    .dataframe tbody tr th:only-of-type {\n",
       "        vertical-align: middle;\n",
       "    }\n",
       "\n",
       "    .dataframe tbody tr th {\n",
       "        vertical-align: top;\n",
       "    }\n",
       "\n",
       "    .dataframe thead th {\n",
       "        text-align: right;\n",
       "    }\n",
       "</style>\n",
       "<table border=\"1\" class=\"dataframe\">\n",
       "  <thead>\n",
       "    <tr style=\"text-align: right;\">\n",
       "      <th></th>\n",
       "      <th>Total</th>\n",
       "      <th>Percent</th>\n",
       "    </tr>\n",
       "  </thead>\n",
       "  <tbody>\n",
       "    <tr>\n",
       "      <th>Credit_Product</th>\n",
       "      <td>29325</td>\n",
       "      <td>0.119341</td>\n",
       "    </tr>\n",
       "    <tr>\n",
       "      <th>Is_Lead</th>\n",
       "      <td>0</td>\n",
       "      <td>0.000000</td>\n",
       "    </tr>\n",
       "    <tr>\n",
       "      <th>Is_Active</th>\n",
       "      <td>0</td>\n",
       "      <td>0.000000</td>\n",
       "    </tr>\n",
       "    <tr>\n",
       "      <th>Avg_Account_Balance</th>\n",
       "      <td>0</td>\n",
       "      <td>0.000000</td>\n",
       "    </tr>\n",
       "    <tr>\n",
       "      <th>Vintage</th>\n",
       "      <td>0</td>\n",
       "      <td>0.000000</td>\n",
       "    </tr>\n",
       "    <tr>\n",
       "      <th>Channel_Code</th>\n",
       "      <td>0</td>\n",
       "      <td>0.000000</td>\n",
       "    </tr>\n",
       "    <tr>\n",
       "      <th>Occupation</th>\n",
       "      <td>0</td>\n",
       "      <td>0.000000</td>\n",
       "    </tr>\n",
       "    <tr>\n",
       "      <th>Region_Code</th>\n",
       "      <td>0</td>\n",
       "      <td>0.000000</td>\n",
       "    </tr>\n",
       "    <tr>\n",
       "      <th>Age</th>\n",
       "      <td>0</td>\n",
       "      <td>0.000000</td>\n",
       "    </tr>\n",
       "    <tr>\n",
       "      <th>Gender</th>\n",
       "      <td>0</td>\n",
       "      <td>0.000000</td>\n",
       "    </tr>\n",
       "    <tr>\n",
       "      <th>ID</th>\n",
       "      <td>0</td>\n",
       "      <td>0.000000</td>\n",
       "    </tr>\n",
       "  </tbody>\n",
       "</table>\n",
       "</div>"
      ],
      "text/plain": [
       "                     Total   Percent\n",
       "Credit_Product       29325  0.119341\n",
       "Is_Lead                  0  0.000000\n",
       "Is_Active                0  0.000000\n",
       "Avg_Account_Balance      0  0.000000\n",
       "Vintage                  0  0.000000\n",
       "Channel_Code             0  0.000000\n",
       "Occupation               0  0.000000\n",
       "Region_Code              0  0.000000\n",
       "Age                      0  0.000000\n",
       "Gender                   0  0.000000\n",
       "ID                       0  0.000000"
      ]
     },
     "execution_count": 224,
     "metadata": {},
     "output_type": "execute_result"
    }
   ],
   "source": [
    "#finding missing data\n",
    "total = train.isnull().sum().sort_values(ascending=False)\n",
    "percent = (train.isnull().sum()/train.isnull().count()).sort_values(ascending=False)\n",
    "missing_data = pd.concat([total, percent], axis=1, keys=['Total', 'Percent'])\n",
    "missing_data.head(20)"
   ]
  },
  {
   "cell_type": "code",
   "execution_count": 225,
   "metadata": {},
   "outputs": [
    {
     "data": {
      "text/html": [
       "<div>\n",
       "<style scoped>\n",
       "    .dataframe tbody tr th:only-of-type {\n",
       "        vertical-align: middle;\n",
       "    }\n",
       "\n",
       "    .dataframe tbody tr th {\n",
       "        vertical-align: top;\n",
       "    }\n",
       "\n",
       "    .dataframe thead th {\n",
       "        text-align: right;\n",
       "    }\n",
       "</style>\n",
       "<table border=\"1\" class=\"dataframe\">\n",
       "  <thead>\n",
       "    <tr style=\"text-align: right;\">\n",
       "      <th></th>\n",
       "      <th>Total</th>\n",
       "      <th>Percent</th>\n",
       "    </tr>\n",
       "  </thead>\n",
       "  <tbody>\n",
       "    <tr>\n",
       "      <th>Credit_Product</th>\n",
       "      <td>12522</td>\n",
       "      <td>0.118904</td>\n",
       "    </tr>\n",
       "    <tr>\n",
       "      <th>Is_Active</th>\n",
       "      <td>0</td>\n",
       "      <td>0.000000</td>\n",
       "    </tr>\n",
       "    <tr>\n",
       "      <th>Avg_Account_Balance</th>\n",
       "      <td>0</td>\n",
       "      <td>0.000000</td>\n",
       "    </tr>\n",
       "    <tr>\n",
       "      <th>Vintage</th>\n",
       "      <td>0</td>\n",
       "      <td>0.000000</td>\n",
       "    </tr>\n",
       "    <tr>\n",
       "      <th>Channel_Code</th>\n",
       "      <td>0</td>\n",
       "      <td>0.000000</td>\n",
       "    </tr>\n",
       "    <tr>\n",
       "      <th>Occupation</th>\n",
       "      <td>0</td>\n",
       "      <td>0.000000</td>\n",
       "    </tr>\n",
       "    <tr>\n",
       "      <th>Region_Code</th>\n",
       "      <td>0</td>\n",
       "      <td>0.000000</td>\n",
       "    </tr>\n",
       "    <tr>\n",
       "      <th>Age</th>\n",
       "      <td>0</td>\n",
       "      <td>0.000000</td>\n",
       "    </tr>\n",
       "    <tr>\n",
       "      <th>Gender</th>\n",
       "      <td>0</td>\n",
       "      <td>0.000000</td>\n",
       "    </tr>\n",
       "    <tr>\n",
       "      <th>ID</th>\n",
       "      <td>0</td>\n",
       "      <td>0.000000</td>\n",
       "    </tr>\n",
       "  </tbody>\n",
       "</table>\n",
       "</div>"
      ],
      "text/plain": [
       "                     Total   Percent\n",
       "Credit_Product       12522  0.118904\n",
       "Is_Active                0  0.000000\n",
       "Avg_Account_Balance      0  0.000000\n",
       "Vintage                  0  0.000000\n",
       "Channel_Code             0  0.000000\n",
       "Occupation               0  0.000000\n",
       "Region_Code              0  0.000000\n",
       "Age                      0  0.000000\n",
       "Gender                   0  0.000000\n",
       "ID                       0  0.000000"
      ]
     },
     "execution_count": 225,
     "metadata": {},
     "output_type": "execute_result"
    }
   ],
   "source": [
    "#missing data\n",
    "total = test.isnull().sum().sort_values(ascending=False)\n",
    "percent = (test.isnull().sum()/test.isnull().count()).sort_values(ascending=False)\n",
    "missing_datatest = pd.concat([total, percent], axis=1, keys=['Total', 'Percent'])\n",
    "missing_datatest.head(20)"
   ]
  },
  {
   "cell_type": "code",
   "execution_count": 226,
   "metadata": {},
   "outputs": [
    {
     "data": {
      "text/plain": [
       "ID                     245725\n",
       "Gender                      2\n",
       "Age                        63\n",
       "Region_Code                35\n",
       "Occupation                  4\n",
       "Channel_Code                4\n",
       "Vintage                    66\n",
       "Credit_Product              2\n",
       "Avg_Account_Balance    135292\n",
       "Is_Active                   2\n",
       "Is_Lead                     2\n",
       "dtype: int64"
      ]
     },
     "execution_count": 226,
     "metadata": {},
     "output_type": "execute_result"
    }
   ],
   "source": [
    "train.nunique()"
   ]
  },
  {
   "cell_type": "code",
   "execution_count": 227,
   "metadata": {},
   "outputs": [
    {
     "data": {
      "text/plain": [
       "ID                     105312\n",
       "Gender                      2\n",
       "Age                        62\n",
       "Region_Code                35\n",
       "Occupation                  4\n",
       "Channel_Code                4\n",
       "Vintage                    66\n",
       "Credit_Product              2\n",
       "Avg_Account_Balance     78315\n",
       "Is_Active                   2\n",
       "dtype: int64"
      ]
     },
     "execution_count": 227,
     "metadata": {},
     "output_type": "execute_result"
    }
   ],
   "source": [
    "test.nunique()"
   ]
  },
  {
   "cell_type": "markdown",
   "metadata": {},
   "source": [
    "Table to study relationship between various columns and the target"
   ]
  },
  {
   "cell_type": "code",
   "execution_count": 99,
   "metadata": {},
   "outputs": [
    {
     "name": "stdout",
     "output_type": "stream",
     "text": [
      "                  count      mean\n",
      "Occupation                       \n",
      "Entrepreneur     2667.0  0.660667\n",
      "Other           70173.0  0.244952\n",
      "Salaried        71999.0  0.159669\n",
      "Self_Employed  100886.0  0.275965\n"
     ]
    }
   ],
   "source": [
    "print( train.pivot_table(index='Occupation',values='Is_Lead',aggfunc=('mean','count')) )"
   ]
  },
  {
   "cell_type": "code",
   "execution_count": 89,
   "metadata": {},
   "outputs": [
    {
     "name": "stdout",
     "output_type": "stream",
     "text": [
      "                 count      mean\n",
      "Channel_Code                    \n",
      "X1            103718.0  0.091421\n",
      "X2             67726.0  0.327895\n",
      "X3             68712.0  0.367025\n",
      "X4              5569.0  0.247800\n"
     ]
    }
   ],
   "source": [
    "print( train.pivot_table(index='Channel_Code',values='Is_Lead',aggfunc=('mean','count')) )"
   ]
  },
  {
   "cell_type": "code",
   "execution_count": 94,
   "metadata": {},
   "outputs": [
    {
     "name": "stdout",
     "output_type": "stream",
     "text": [
      "                   count      mean\n",
      "Credit_Product                    \n",
      "No              144357.0  0.073588\n",
      "Yes              72043.0  0.314951\n"
     ]
    }
   ],
   "source": [
    "print( train.pivot_table(index='Credit_Product',values='Is_Lead',aggfunc=('mean','count')) )"
   ]
  },
  {
   "cell_type": "code",
   "execution_count": 90,
   "metadata": {},
   "outputs": [
    {
     "name": "stdout",
     "output_type": "stream",
     "text": [
      "              count      mean\n",
      "Is_Active                    \n",
      "No         150290.0  0.208151\n",
      "Yes         95435.0  0.282967\n"
     ]
    }
   ],
   "source": [
    "print( train.pivot_table(index='Is_Active',values='Is_Lead',aggfunc=('mean','count')) )"
   ]
  },
  {
   "cell_type": "code",
   "execution_count": 92,
   "metadata": {},
   "outputs": [
    {
     "name": "stdout",
     "output_type": "stream",
     "text": [
      "           count      mean\n",
      "Gender                    \n",
      "Female  111528.0  0.203581\n",
      "Male    134197.0  0.265155\n"
     ]
    }
   ],
   "source": [
    "print( train.pivot_table(index='Gender',values='Is_Lead',aggfunc=('mean','count')) )"
   ]
  },
  {
   "cell_type": "code",
   "execution_count": 96,
   "metadata": {},
   "outputs": [
    {
     "name": "stdout",
     "output_type": "stream",
     "text": [
      "       count      mean\n",
      "Age                   \n",
      "23       1.0  0.000000\n",
      "24    1905.0  0.058268\n",
      "25    5307.0  0.069154\n",
      "26    9039.0  0.065383\n",
      "27   13005.0  0.063206\n",
      "..       ...       ...\n",
      "81     830.0  0.326506\n",
      "82     749.0  0.340454\n",
      "83     694.0  0.328530\n",
      "84     624.0  0.342949\n",
      "85     604.0  0.332781\n",
      "\n",
      "[63 rows x 2 columns]\n"
     ]
    }
   ],
   "source": [
    "print( train.pivot_table(index='Age',values='Is_Lead',aggfunc=('mean','count')) )"
   ]
  },
  {
   "cell_type": "code",
   "execution_count": 97,
   "metadata": {},
   "outputs": [
    {
     "name": "stdout",
     "output_type": "stream",
     "text": [
      "           count      mean\n",
      "Vintage                   \n",
      "7          648.0  0.226852\n",
      "8          619.0  0.218094\n",
      "9          638.0  0.231975\n",
      "13       12338.0  0.149052\n",
      "14       12267.0  0.147061\n",
      "...          ...       ...\n",
      "128        501.0  0.375250\n",
      "129        499.0  0.326653\n",
      "133         18.0  0.166667\n",
      "134         14.0  0.428571\n",
      "135         19.0  0.210526\n",
      "\n",
      "[66 rows x 2 columns]\n"
     ]
    }
   ],
   "source": [
    "print( train.pivot_table(index='Vintage',values='Is_Lead',aggfunc=('mean','count')) )"
   ]
  },
  {
   "cell_type": "code",
   "execution_count": 98,
   "metadata": {},
   "outputs": [
    {
     "name": "stdout",
     "output_type": "stream",
     "text": [
      "               count      mean\n",
      "Region_Code                   \n",
      "RG250         2496.0  0.157452\n",
      "RG251         5950.0  0.232101\n",
      "RG252         4286.0  0.138124\n",
      "RG253         1858.0  0.258881\n",
      "RG254        26840.0  0.212854\n",
      "RG255         2018.0  0.232408\n",
      "RG256         2847.0  0.140850\n",
      "RG257         6101.0  0.191772\n",
      "RG258         1951.0  0.220400\n",
      "RG259         2586.0  0.193735\n",
      "RG260         3110.0  0.190997\n",
      "RG261         7633.0  0.167955\n",
      "RG262         1788.0  0.180649\n",
      "RG263         3687.0  0.221861\n",
      "RG264         2793.0  0.137129\n",
      "RG265         1546.0  0.258732\n",
      "RG266         1578.0  0.139417\n",
      "RG267         1497.0  0.148965\n",
      "RG268        35934.0  0.299800\n",
      "RG269         7863.0  0.221671\n",
      "RG270         7720.0  0.144301\n",
      "RG271         1542.0  0.169261\n",
      "RG272         5252.0  0.219916\n",
      "RG273         4497.0  0.237714\n",
      "RG274         5286.0  0.164964\n",
      "RG275         3245.0  0.167334\n",
      "RG276         2764.0  0.277858\n",
      "RG277        12826.0  0.231951\n",
      "RG278         1822.0  0.219539\n",
      "RG279         3976.0  0.225604\n",
      "RG280        12775.0  0.235538\n",
      "RG281         5093.0  0.218732\n",
      "RG282         5829.0  0.192143\n",
      "RG283        29416.0  0.302047\n",
      "RG284        19320.0  0.301035\n"
     ]
    }
   ],
   "source": [
    "print( train.pivot_table(index='Region_Code',values='Is_Lead',aggfunc=('mean','count')) )"
   ]
  },
  {
   "cell_type": "code",
   "execution_count": 100,
   "metadata": {},
   "outputs": [
    {
     "name": "stdout",
     "output_type": "stream",
     "text": [
      "                     count  mean\n",
      "Avg_Account_Balance             \n",
      "20790                  1.0   0.0\n",
      "45657                  1.0   0.0\n",
      "45950                  2.0   0.5\n",
      "47526                  1.0   0.0\n",
      "48389                  2.0   0.0\n",
      "...                    ...   ...\n",
      "9546317                1.0   0.0\n",
      "9614883                1.0   0.0\n",
      "9792796                1.0   1.0\n",
      "10007678               1.0   1.0\n",
      "10352009               1.0   0.0\n",
      "\n",
      "[135292 rows x 2 columns]\n"
     ]
    }
   ],
   "source": [
    "print( train.pivot_table(index='Avg_Account_Balance',values='Is_Lead',aggfunc=('mean','count')) )"
   ]
  },
  {
   "cell_type": "markdown",
   "metadata": {},
   "source": [
    "Outlier detection"
   ]
  },
  {
   "cell_type": "code",
   "execution_count": 15,
   "metadata": {},
   "outputs": [
    {
     "data": {
      "text/plain": [
       "<AxesSubplot:ylabel='Age'>"
      ]
     },
     "execution_count": 15,
     "metadata": {},
     "output_type": "execute_result"
    },
    {
     "data": {
      "image/png": "[encoded data removed]",
      "text/plain": [
       "<Figure size 360x360 with 1 Axes>"
      ]
     },
     "metadata": {
      "needs_background": "light"
     },
     "output_type": "display_data"
    }
   ],
   "source": [
    "plt.figure(figsize=(5,5))\n",
    "sns.boxplot(y='Age',data=train)"
   ]
  },
  {
   "cell_type": "code",
   "execution_count": 16,
   "metadata": {},
   "outputs": [
    {
     "data": {
      "text/plain": [
       "<AxesSubplot:ylabel='Vintage'>"
      ]
     },
     "execution_count": 16,
     "metadata": {},
     "output_type": "execute_result"
    },
    {
     "data": {
      "image/png": "[encoded data removed]",
      "text/plain": [
       "<Figure size 360x360 with 1 Axes>"
      ]
     },
     "metadata": {
      "needs_background": "light"
     },
     "output_type": "display_data"
    }
   ],
   "source": [
    "plt.figure(figsize=(5,5))\n",
    "sns.boxplot(y='Vintage',data=train)"
   ]
  },
  {
   "cell_type": "code",
   "execution_count": 17,
   "metadata": {},
   "outputs": [
    {
     "data": {
      "text/plain": [
       "<AxesSubplot:ylabel='Avg_Account_Balance'>"
      ]
     },
     "execution_count": 17,
     "metadata": {},
     "output_type": "execute_result"
    },
    {
     "data": {
      "image/png": "[encoded data removed]",
      "text/plain": [
       "<Figure size 360x360 with 1 Axes>"
      ]
     },
     "metadata": {
      "needs_background": "light"
     },
     "output_type": "display_data"
    }
   ],
   "source": [
    "plt.figure(figsize=(5,5))\n",
    "sns.boxplot(y='Avg_Account_Balance',data=train)"
   ]
  },
  {
   "cell_type": "code",
   "execution_count": 95,
   "metadata": {},
   "outputs": [
    {
     "data": {
      "image/png": "[encoded data removed]",
      "text/plain": [
       "<Figure size 432x288 with 2 Axes>"
      ]
     },
     "metadata": {},
     "output_type": "display_data"
    }
   ],
   "source": [
    "# correlation matrix\n",
    "corrmat = train.corr()\n",
    "k = 10 #number of variables for heatmap\n",
    "cols = corrmat.nlargest(k, 'Is_Lead')['Is_Lead'].index\n",
    "cm = np.corrcoef(train[cols].values.T)\n",
    "sns.set(font_scale=1.25)\n",
    "hm = sns.heatmap(cm, cbar=True, annot=True, square=True, fmt='.2f', annot_kws={'size': 10}, yticklabels=cols.values, xticklabels=cols.values)\n",
    "plt.show()"
   ]
  },
  {
   "cell_type": "code",
   "execution_count": 239,
   "metadata": {},
   "outputs": [
    {
     "ename": "SyntaxError",
     "evalue": "invalid syntax (<ipython-input-239-10adc6700194>, line 1)",
     "output_type": "error",
     "traceback": [
      "\u001b[1;36m  File \u001b[1;32m\"<ipython-input-239-10adc6700194>\"\u001b[1;36m, line \u001b[1;32m1\u001b[0m\n\u001b[1;33m    Normalising the numericl columns\u001b[0m\n\u001b[1;37m                ^\u001b[0m\n\u001b[1;31mSyntaxError\u001b[0m\u001b[1;31m:\u001b[0m invalid syntax\n"
     ]
    }
   ],
   "source": [
    "Normalising the numericl columns"
   ]
  },
  {
   "cell_type": "code",
   "execution_count": 217,
   "metadata": {},
   "outputs": [
    {
     "data": {
      "image/png": "[encoded data removed]",
      "text/plain": [
       "<Figure size 432x288 with 1 Axes>"
      ]
     },
     "metadata": {},
     "output_type": "display_data"
    }
   ],
   "source": [
    "sns.distplot(train['Avg_Account_Balance'])\n",
    "plt.show()"
   ]
  },
  {
   "cell_type": "code",
   "execution_count": 229,
   "metadata": {},
   "outputs": [
    {
     "data": {
      "image/png": "[encoded data removed]",
      "text/plain": [
       "<Figure size 432x288 with 1 Axes>"
      ]
     },
     "metadata": {},
     "output_type": "display_data"
    }
   ],
   "source": [
    "train['Avg_Account_Balance'] = np.log(train['Avg_Account_Balance'])\n",
    "sns.distplot(train['Avg_Account_Balance'])\n",
    "plt.show()"
   ]
  },
  {
   "cell_type": "code",
   "execution_count": 231,
   "metadata": {},
   "outputs": [],
   "source": [
    "#train['Age'] = np.log(train['Age'])\n",
    "#test['Age'] = np.log(test['Age'])\n",
    "#train['Vintage'] = np.log(train['Vintage'])\n",
    "#test['Vintage'] = np.log(test['Vintage'])\n",
    "train['Vintage'] = train['Vintage']/12\n",
    "test['Vintage'] = test['Vintage']/12"
   ]
  },
  {
   "cell_type": "markdown",
   "metadata": {},
   "source": [
    "Filling Null values"
   ]
  },
  {
   "cell_type": "code",
   "execution_count": 230,
   "metadata": {},
   "outputs": [
    {
     "name": "stdout",
     "output_type": "stream",
     "text": [
      "<class 'pandas.core.frame.DataFrame'>\n",
      "RangeIndex: 245725 entries, 0 to 245724\n",
      "Data columns (total 11 columns):\n",
      " #   Column               Non-Null Count   Dtype  \n",
      "---  ------               --------------   -----  \n",
      " 0   ID                   245725 non-null  object \n",
      " 1   Gender               245725 non-null  object \n",
      " 2   Age                  245725 non-null  int64  \n",
      " 3   Region_Code          245725 non-null  object \n",
      " 4   Occupation           245725 non-null  object \n",
      " 5   Channel_Code         245725 non-null  object \n",
      " 6   Vintage              245725 non-null  int64  \n",
      " 7   Credit_Product       245725 non-null  object \n",
      " 8   Avg_Account_Balance  245725 non-null  float64\n",
      " 9   Is_Active            245725 non-null  object \n",
      " 10  Is_Lead              245725 non-null  int64  \n",
      "dtypes: float64(1), int64(3), object(7)\n",
      "memory usage: 20.6+ MB\n",
      "<class 'pandas.core.frame.DataFrame'>\n",
      "RangeIndex: 105312 entries, 0 to 105311\n",
      "Data columns (total 10 columns):\n",
      " #   Column               Non-Null Count   Dtype  \n",
      "---  ------               --------------   -----  \n",
      " 0   ID                   105312 non-null  object \n",
      " 1   Gender               105312 non-null  object \n",
      " 2   Age                  105312 non-null  int64  \n",
      " 3   Region_Code          105312 non-null  object \n",
      " 4   Occupation           105312 non-null  object \n",
      " 5   Channel_Code         105312 non-null  object \n",
      " 6   Vintage              105312 non-null  int64  \n",
      " 7   Credit_Product       105312 non-null  object \n",
      " 8   Avg_Account_Balance  105312 non-null  float64\n",
      " 9   Is_Active            105312 non-null  object \n",
      "dtypes: float64(1), int64(2), object(7)\n",
      "memory usage: 8.0+ MB\n"
     ]
    }
   ],
   "source": [
    "train['Credit_Product'].replace(np.nan,'Yes',inplace=True)\n",
    "test['Credit_Product'].replace(np.nan,'Yes',inplace=True)\n",
    "\n",
    "test['Avg_Account_Balance'] = np.log(test['Avg_Account_Balance'])\n",
    "\n",
    "train.info()\n",
    "test.info()"
   ]
  },
  {
   "cell_type": "code",
   "execution_count": 232,
   "metadata": {},
   "outputs": [],
   "source": [
    "#Deleting unnecessary columns \n",
    "train = train.drop([\"ID\"],axis=1)\n",
    "test1 = test.drop([\"ID\"],axis=1)"
   ]
  },
  {
   "cell_type": "markdown",
   "metadata": {},
   "source": [
    "Converting categrical values to numerical for model building"
   ]
  },
  {
   "cell_type": "code",
   "execution_count": 233,
   "metadata": {},
   "outputs": [
    {
     "name": "stdout",
     "output_type": "stream",
     "text": [
      "<class 'pandas.core.frame.DataFrame'>\n",
      "RangeIndex: 245725 entries, 0 to 245724\n",
      "Data columns (total 10 columns):\n",
      " #   Column               Non-Null Count   Dtype  \n",
      "---  ------               --------------   -----  \n",
      " 0   Gender               245725 non-null  int32  \n",
      " 1   Age                  245725 non-null  int64  \n",
      " 2   Region_Code          245725 non-null  int32  \n",
      " 3   Occupation           245725 non-null  int32  \n",
      " 4   Channel_Code         245725 non-null  int32  \n",
      " 5   Vintage              245725 non-null  float64\n",
      " 6   Credit_Product       245725 non-null  int32  \n",
      " 7   Avg_Account_Balance  245725 non-null  float64\n",
      " 8   Is_Active            245725 non-null  int32  \n",
      " 9   Is_Lead              245725 non-null  int64  \n",
      "dtypes: float64(2), int32(6), int64(2)\n",
      "memory usage: 13.1 MB\n",
      "<class 'pandas.core.frame.DataFrame'>\n",
      "RangeIndex: 105312 entries, 0 to 105311\n",
      "Data columns (total 9 columns):\n",
      " #   Column               Non-Null Count   Dtype  \n",
      "---  ------               --------------   -----  \n",
      " 0   Gender               105312 non-null  int32  \n",
      " 1   Age                  105312 non-null  int64  \n",
      " 2   Region_Code          105312 non-null  int32  \n",
      " 3   Occupation           105312 non-null  int32  \n",
      " 4   Channel_Code         105312 non-null  int32  \n",
      " 5   Vintage              105312 non-null  float64\n",
      " 6   Credit_Product       105312 non-null  int32  \n",
      " 7   Avg_Account_Balance  105312 non-null  float64\n",
      " 8   Is_Active            105312 non-null  int32  \n",
      "dtypes: float64(2), int32(6), int64(1)\n",
      "memory usage: 4.8 MB\n"
     ]
    }
   ],
   "source": [
    "s = (train.dtypes == 'object')\n",
    "r = (test1.dtypes == 'object')\n",
    "object_cols = list(s[s].index)\n",
    "object_cols = list(r[r].index)\n",
    "label_encoder = LabelEncoder()\n",
    "for col in object_cols:\n",
    "    train[col] = label_encoder.fit_transform(train[col])\n",
    "    test1[col] = label_encoder.fit_transform(test1[col])\n",
    "    \n",
    "train.info()\n",
    "test1.info()"
   ]
  },
  {
   "cell_type": "markdown",
   "metadata": {},
   "source": [
    "# Model Building "
   ]
  },
  {
   "cell_type": "code",
   "execution_count": 234,
   "metadata": {},
   "outputs": [],
   "source": [
    "\n",
    "X = train.drop([\"Is_Lead\"],axis=1)\n",
    "Y = train['Is_Lead']\n",
    "X1 = test1\n",
    "\n",
    "\n",
    "X_train, X_test, Y_train, Y_test = train_test_split(X, X, test_size=0.2, random_state=3)\n"
   ]
  },
  {
   "cell_type": "markdown",
   "metadata": {},
   "source": [
    "Hyperparameter tuning for LGB"
   ]
  },
  {
   "cell_type": "code",
   "execution_count": null,
   "metadata": {},
   "outputs": [],
   "source": [
    "from sklearn.metrics import classification_report, roc_auc_score, make_scorer, accuracy_score, roc_curve\n",
    "import optuna\n",
    "from math import sqrt\n",
    "import lightgbm as lgb\n",
    "\n",
    "lgb_train = lgb.Dataset(X_train, Y_train)\n",
    "lgb_valid = lgb.Dataset(X_test, Y_test, reference=lgb_train)\n"
   ]
  },
  {
   "cell_type": "code",
   "execution_count": null,
   "metadata": {},
   "outputs": [],
   "source": [
    "def objective(trial):    \n",
    "    params = {\n",
    "        'reg_alpha' : trial.suggest_loguniform('reg_alpha' , 1e-5 , 12),\n",
    "        'reg_lambda' : trial.suggest_loguniform('reg_lambda' , 1e-5 , 12),\n",
    "        'num_leaves' : trial.suggest_int('num_leaves' , 11 , 900),\n",
    "        'learning_rate' : trial.suggest_uniform('learning_rate' , 0.0000001 , 0.2),\n",
    "        'max_depth' : trial.suggest_int('max_depth' , 5 , 400),\n",
    "        'n_estimators' : trial.suggest_int('n_estimators' , 1 , 9999),\n",
    "        'min_child_samples' : trial.suggest_int('min_child_samples' , 1 , 110),\n",
    "        'min_child_weight' : trial.suggest_loguniform('min_child_weight' , 1e-5 , 1),\n",
    "        'subsample' : trial.suggest_uniform('subsample' , 1e-5 , 1.0),\n",
    "        'colsample_bytree' : trial.suggest_loguniform('colsample_bytree' , 1e-5 , 1),\n",
    "        'random_state' : trial.suggest_categorical('random_state' , [2,22,222,2222]),\n",
    "        'metric' : 'auc',\n",
    "    }\n",
    "    \n",
    "    model = lgb.LGBMClassifier(**params)\n",
    "    model.fit(X_train , Y_train , eval_set = [(X_test , Y_test)] ,eval_metric='logloss', early_stopping_rounds = 1000 , \\\n",
    "             verbose = False)\n",
    "    preds = model.predict(X_test)\n",
    "    acc = metrics.accuracy_score(Y_test , preds)\n",
    "    return acc"
   ]
  },
  {
   "cell_type": "code",
   "execution_count": null,
   "metadata": {},
   "outputs": [],
   "source": [
    "study = optuna.create_study(direction = 'maximize')\n",
    "study.optimize(objective, n_trials = 100)\n",
    "\n",
    "print('numbers of the finished trials:' , len(study.trials))\n",
    "print('the best params:' , study.best_trial.params)\n",
    "print('the best value:' , study.best_value)\n"
   ]
  },
  {
   "cell_type": "code",
   "execution_count": 235,
   "metadata": {},
   "outputs": [],
   "source": [
    "from sklearn.model_selection import KFold, StratifiedKFold\n",
    "from sklearn.metrics import roc_auc_score\n",
    "\n",
    "def cross_val(X, Y, model, params, folds=10):\n",
    "\n",
    "    skf = StratifiedKFold(n_splits=folds, shuffle=True, random_state=42)\n",
    "    for fold, (train_idx, test_idx) in enumerate(skf.split(X, Y)):\n",
    "        print(f\"Fold: {fold}\")\n",
    "        x_train, y_train = X.iloc[train_idx], Y.iloc[train_idx]\n",
    "        x_test, y_test = X.iloc[test_idx], Y.iloc[test_idx]\n",
    "\n",
    "        alg = model(**params)\n",
    "        alg.fit(x_train, y_train,\n",
    "                eval_set=[(x_test, y_test)],\n",
    "                early_stopping_rounds=100,\n",
    "                verbose=400)\n",
    "\n",
    "        pred = alg.predict_proba(x_test)[:, 1]\n",
    "        roc_score = roc_auc_score(y_test, pred)\n",
    "        print(f\"roc_auc_score: {roc_score}\")\n",
    "        print(\"-\"*50)\n",
    "    \n",
    "    return alg"
   ]
  },
  {
   "cell_type": "code",
   "execution_count": 236,
   "metadata": {},
   "outputs": [],
   "source": [
    "lgb_params= {'learning_rate': 0.045, \n",
    "             'n_estimators': 20000, \n",
    "             'max_bin': 94,\n",
    "             'num_leaves': 10, \n",
    "             'max_depth': 27, \n",
    "             'reg_alpha': 8.457, \n",
    "             'reg_lambda': 6.853, \n",
    "             'subsample': 0.749}"
   ]
  },
  {
   "cell_type": "code",
   "execution_count": 237,
   "metadata": {},
   "outputs": [
    {
     "name": "stdout",
     "output_type": "stream",
     "text": [
      "Fold: 0\n",
      "Training until validation scores don't improve for 100 rounds\n",
      "[400]\tvalid_0's binary_logloss: 0.381021\n",
      "Early stopping, best iteration is:\n",
      "[547]\tvalid_0's binary_logloss: 0.380875\n",
      "roc_auc_score: 0.8505868443922527\n",
      "--------------------------------------------------\n",
      "Fold: 1\n",
      "Training until validation scores don't improve for 100 rounds\n",
      "[400]\tvalid_0's binary_logloss: 0.380914\n",
      "Early stopping, best iteration is:\n",
      "[565]\tvalid_0's binary_logloss: 0.380824\n",
      "roc_auc_score: 0.8519260731970857\n",
      "--------------------------------------------------\n",
      "Fold: 2\n",
      "Training until validation scores don't improve for 100 rounds\n",
      "[400]\tvalid_0's binary_logloss: 0.382768\n",
      "[800]\tvalid_0's binary_logloss: 0.382555\n",
      "Early stopping, best iteration is:\n",
      "[882]\tvalid_0's binary_logloss: 0.382516\n",
      "roc_auc_score: 0.8507886634205017\n",
      "--------------------------------------------------\n",
      "Fold: 3\n",
      "Training until validation scores don't improve for 100 rounds\n",
      "[400]\tvalid_0's binary_logloss: 0.382013\n",
      "Early stopping, best iteration is:\n",
      "[508]\tvalid_0's binary_logloss: 0.381932\n",
      "roc_auc_score: 0.8490433116329256\n",
      "--------------------------------------------------\n",
      "Fold: 4\n",
      "Training until validation scores don't improve for 100 rounds\n",
      "[400]\tvalid_0's binary_logloss: 0.381412\n",
      "Early stopping, best iteration is:\n",
      "[689]\tvalid_0's binary_logloss: 0.381142\n",
      "roc_auc_score: 0.852215093458488\n",
      "--------------------------------------------------\n",
      "Fold: 5\n",
      "Training until validation scores don't improve for 100 rounds\n",
      "[400]\tvalid_0's binary_logloss: 0.385267\n",
      "Early stopping, best iteration is:\n",
      "[440]\tvalid_0's binary_logloss: 0.385242\n",
      "roc_auc_score: 0.8480244861151267\n",
      "--------------------------------------------------\n",
      "Fold: 6\n",
      "Training until validation scores don't improve for 100 rounds\n",
      "[400]\tvalid_0's binary_logloss: 0.382334\n",
      "Early stopping, best iteration is:\n",
      "[623]\tvalid_0's binary_logloss: 0.382239\n",
      "roc_auc_score: 0.8508646766050013\n",
      "--------------------------------------------------\n",
      "Fold: 7\n",
      "Training until validation scores don't improve for 100 rounds\n",
      "[400]\tvalid_0's binary_logloss: 0.379921\n",
      "Early stopping, best iteration is:\n",
      "[540]\tvalid_0's binary_logloss: 0.379794\n",
      "roc_auc_score: 0.8525207471062543\n",
      "--------------------------------------------------\n",
      "Fold: 8\n",
      "Training until validation scores don't improve for 100 rounds\n",
      "[400]\tvalid_0's binary_logloss: 0.381471\n",
      "Early stopping, best iteration is:\n",
      "[579]\tvalid_0's binary_logloss: 0.381395\n",
      "roc_auc_score: 0.8511284963324605\n",
      "--------------------------------------------------\n",
      "Fold: 9\n",
      "Training until validation scores don't improve for 100 rounds\n",
      "[400]\tvalid_0's binary_logloss: 0.379186\n",
      "Early stopping, best iteration is:\n",
      "[687]\tvalid_0's binary_logloss: 0.378825\n",
      "roc_auc_score: 0.8528918858362695\n",
      "--------------------------------------------------\n"
     ]
    }
   ],
   "source": [
    "from lightgbm import LGBMClassifier\n",
    "lgb_model = cross_val(X,Y, LGBMClassifier, lgb_params)"
   ]
  },
  {
   "cell_type": "code",
   "execution_count": 238,
   "metadata": {},
   "outputs": [],
   "source": [
    "Predsl = lgb_model.predict_proba(X1)[:,1]\n",
    "submission = pd.DataFrame({'ID':test['ID'], 'Is_Lead':Predsl})\n",
    "filename = \"C:/Users/Amulya/Downloads/Analytics_Vidhya_Hackathon/predictionsLGB9.csv\"\n",
    "submission.to_csv(filename, index = False)"
   ]
  }
 ],
 "metadata": {
  "kernelspec": {
   "display_name": "Python 3",
   "language": "python",
   "name": "python3"
  },
  "language_info": {
   "codemirror_mode": {
    "name": "ipython",
    "version": 3
   },
   "file_extension": ".py",
   "mimetype": "text/x-python",
   "name": "python",
   "nbconvert_exporter": "python",
   "pygments_lexer": "ipython3",
   "version": "3.8.5"
  }
 },
 "nbformat": 4,
 "nbformat_minor": 4
}
